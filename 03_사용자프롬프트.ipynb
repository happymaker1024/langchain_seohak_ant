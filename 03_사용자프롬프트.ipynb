{
 "cells": [
  {
   "cell_type": "markdown",
   "metadata": {},
   "source": [
    "## 환경셋팅 값 및 모듈 로딩"
   ]
  },
  {
   "cell_type": "code",
   "execution_count": 1,
   "metadata": {},
   "outputs": [],
   "source": [
    "from dotenv import load_dotenv\n",
    "import os\n",
    "from langchain_openai import ChatOpenAI\n",
    "\n",
    "load_dotenv()\n",
    "\n",
    "api_key = os.getenv('OPENAI_API_KEY')\n",
    "# print(api_key)"
   ]
  },
  {
   "cell_type": "markdown",
   "metadata": {},
   "source": [
    "## llm 모델 객체 생성"
   ]
  },
  {
   "cell_type": "code",
   "execution_count": 2,
   "metadata": {},
   "outputs": [],
   "source": [
    "# gpt model 객체 생성, 객관적 사실에 대한 응답 요청 -> temperature=0\n",
    "llm = ChatOpenAI(model=\"gpt-4o\", api_key=api_key, temperature=0)"
   ]
  },
  {
   "cell_type": "markdown",
   "metadata": {},
   "source": [
    "## 필요한 모듈 로딩"
   ]
  },
  {
   "cell_type": "code",
   "execution_count": 3,
   "metadata": {},
   "outputs": [],
   "source": [
    "from langchain_core.prompts import ChatPromptTemplate\n",
    "from langchain_core.output_parsers import StrOutputParser  # 아웃풋 파서\n"
   ]
  },
  {
   "cell_type": "markdown",
   "metadata": {},
   "source": [
    "## 프롬프트 생성"
   ]
  },
  {
   "cell_type": "markdown",
   "metadata": {},
   "source": [
    "[] 프롬프트 찾기 \n",
    "- https://github.com/f/awesome-chatgpt-prompts\n",
    "- Financial Analyst로 검색"
   ]
  },
  {
   "cell_type": "code",
   "execution_count": 4,
   "metadata": {},
   "outputs": [],
   "source": [
    "system_prompt = \"\"\"\n",
    "    Want assistance provided by qualified individuals enabled with experience on understanding charts using technical analysis tools while interpreting macroeconomic environment prevailing across world consequently assisting customers acquire long term advantages requires clear verdicts therefore seeking same through informed predictions written down precisely! First statement contains following content- \"Can you tell us what future stock market looks like based upon current conditions ?\".\n",
    " \"\"\"\n",
    "user_prompt = \"\"\"\n",
    "    {company}에 주식을 투자해도 될까요? 마크다운 형식의 투자보고서를 한글로 작성해 주세요.\n",
    "    야래의 기본 정보, 재무제표를 참고해 마크다운 형식의 투자 보고서를 한글로 작성해 주세요.\n",
    "\n",
    "    기본정보:\n",
    "    {basic_info}\n",
    "\n",
    "    재무제표:\n",
    "    {finacial_statement}\n",
    "\"\"\""
   ]
  },
  {
   "cell_type": "code",
   "execution_count": 5,
   "metadata": {},
   "outputs": [
    {
     "data": {
      "text/plain": [
       "ChatPromptTemplate(input_variables=['basic_info', 'company', 'finacial_statement'], input_types={}, partial_variables={}, messages=[SystemMessagePromptTemplate(prompt=PromptTemplate(input_variables=[], input_types={}, partial_variables={}, template='\\n    Want assistance provided by qualified individuals enabled with experience on understanding charts using technical analysis tools while interpreting macroeconomic environment prevailing across world consequently assisting customers acquire long term advantages requires clear verdicts therefore seeking same through informed predictions written down precisely! First statement contains following content- \"Can you tell us what future stock market looks like based upon current conditions ?\".\\n '), additional_kwargs={}), HumanMessagePromptTemplate(prompt=PromptTemplate(input_variables=['basic_info', 'company', 'finacial_statement'], input_types={}, partial_variables={}, template='\\n    {company}에 주식을 투자해도 될까요? 마크다운 형식의 투자보고서를 한글로 작성해 주세요.\\n    야래의 기본 정보, 재무제표를 참고해 마크다운 형식의 투자 보고서를 한글로 작성해 주세요.\\n\\n    기본정보:\\n    {basic_info}\\n\\n    재무제표:\\n    {finacial_statement}\\n'), additional_kwargs={})])"
      ]
     },
     "execution_count": 5,
     "metadata": {},
     "output_type": "execute_result"
    }
   ],
   "source": [
    "\n",
    "prompt = ChatPromptTemplate.from_messages([\n",
    "        (\"system\", system_prompt),\n",
    "        (\"user\", user_prompt)\n",
    "    ])\n",
    "prompt"
   ]
  },
  {
   "cell_type": "code",
   "execution_count": 6,
   "metadata": {},
   "outputs": [
    {
     "data": {
      "text/plain": [
       "StrOutputParser()"
      ]
     },
     "execution_count": 6,
     "metadata": {},
     "output_type": "execute_result"
    }
   ],
   "source": [
    "output_parser = StrOutputParser()\n",
    "output_parser"
   ]
  },
  {
   "cell_type": "code",
   "execution_count": 7,
   "metadata": {},
   "outputs": [],
   "source": [
    "from stock_info import Stock\n",
    "\n",
    "# chain 구성\n",
    "chain = prompt | llm | output_parser\n",
    "\n",
    "company = \"MicroSoft\"\n",
    "symbol = \"MSFT\"  # stock의 symbol 정보\n",
    "\n",
    "# stock 객체생성\n",
    "stock = Stock(symbol)\n",
    "\n",
    "response = chain.invoke({\n",
    "    # 회사이름\n",
    "    \"company\" : company,\n",
    "    # 기업 기본 정보 \n",
    "    \"basic_info\": stock.get_basic_info(),\n",
    "    # 기업 재무제표 \n",
    "    \"finacial_statement\": stock.get_financial_statement()\n",
    "    })"
   ]
  },
  {
   "cell_type": "code",
   "execution_count": 8,
   "metadata": {},
   "outputs": [
    {
     "name": "stdout",
     "output_type": "stream",
     "text": [
      "# 마이크로소프트 투자 보고서\n",
      "\n",
      "## 기본 정보\n",
      "- **회사명**: Microsoft Corporation\n",
      "- **시가총액**: $3,185,726,455,808\n",
      "- **산업**: Software - Infrastructure\n",
      "- **섹터**: Technology\n",
      "- **기업가치**: $3,200,019,333,120\n",
      "\n",
      "## 재무제표 분석\n",
      "\n",
      "### 손익계산서\n",
      "| 항목              | 2024년 6월 30일 | 2023년 6월 30일 | 2022년 6월 30일 | 2021년 6월 30일 |\n",
      "|:-----------------|----------------:|----------------:|----------------:|----------------:|\n",
      "| 총수익           | $245.122B       | $211.915B       | $198.27B        | $168.088B       |\n",
      "| 매출총이익       | $171.008B       | $146.052B       | $135.62B        | $115.856B       |\n",
      "| 영업이익         | $109.433B       | $88.523B        | $83.383B        | $69.916B        |\n",
      "| 순이익           | $88.136B        | $72.361B        | $72.738B        | $61.271B        |\n",
      "\n",
      "### 대차대조표\n",
      "| 항목                                      | 2024년 6월 30일 | 2023년 6월 30일 | 2022년 6월 30일 | 2021년 6월 30일 |\n",
      "|:----------------------------------------|----------------:|----------------:|----------------:|----------------:|\n",
      "| 총자산                                  | $512.163B       | $411.976B       | $364.84B        | $333.779B       |\n",
      "| 총부채(소수주주지분 제외)               | $243.686B       | $205.753B       | $198.298B       | $191.791B       |\n",
      "| 주주자본                                | $268.477B       | $206.223B       | $166.542B       | $141.988B       |\n",
      "\n",
      "### 현금흐름표\n",
      "| 항목                  | 2024년 6월 30일 | 2023년 6월 30일 | 2022년 6월 30일 | 2021년 6월 30일 | 2020년 6월 30일 |\n",
      "|:--------------------|----------------:|----------------:|----------------:|----------------:|----------------:|\n",
      "| 영업활동 현금흐름   | $118.548B       | $87.582B        | $89.035B        | $76.74B         | N/A            |\n",
      "| 투자활동 현금흐름   | -$96.97B        | -$22.68B        | -$30.311B       | -$27.577B       | N/A            |\n",
      "| 재무활동 현금흐름   | -$37.757B       | -$43.935B       | -$58.876B       | -$48.486B       | N/A            |\n",
      "\n",
      "## 투자 분석\n",
      "\n",
      "### 강점\n",
      "1. **지속적인 수익 성장**: 마이크로소프트는 지난 몇 년간 꾸준한 수익 성장을 보여주고 있습니다. 2021년부터 2024년까지 총수익과 순이익이 지속적으로 증가하고 있습니다.\n",
      "2. **강력한 영업이익**: 영업이익이 매년 증가하고 있으며, 이는 회사의 운영 효율성을 나타냅니다.\n",
      "3. **견고한 재무 상태**: 총자산과 주주자본이 증가하고 있으며, 이는 회사의 재무 건전성을 나타냅니다.\n",
      "\n",
      "### 약점\n",
      "1. **높은 투자활동 현금흐름**: 투자활동으로 인한 현금 유출이 상당히 크며, 이는 회사의 자본 지출이 많음을 의미합니다.\n",
      "2. **재무활동 현금흐름 감소**: 재무활동으로 인한 현금 유출이 지속적으로 발생하고 있어, 배당금 지급이나 주식 환매 등의 활동이 많음을 시사합니다.\n",
      "\n",
      "### 결론\n",
      "마이크로소프트는 강력한 수익 성장과 견고한 재무 상태를 바탕으로 장기적인 투자 가치가 있는 기업으로 평가됩니다. 다만, 높은 투자활동 현금흐름과 재무활동 현금흐름 감소는 주의 깊게 모니터링해야 할 요소입니다. 따라서, 마이크로소프트에 대한 투자는 긍정적으로 평가되며, 장기적인 관점에서 매수 추천합니다.\n"
     ]
    }
   ],
   "source": [
    "print(response)"
   ]
  },
  {
   "cell_type": "markdown",
   "metadata": {},
   "source": []
  }
 ],
 "metadata": {
  "kernelspec": {
   "display_name": "lcenv_py312",
   "language": "python",
   "name": "python3"
  },
  "language_info": {
   "codemirror_mode": {
    "name": "ipython",
    "version": 3
   },
   "file_extension": ".py",
   "mimetype": "text/x-python",
   "name": "python",
   "nbconvert_exporter": "python",
   "pygments_lexer": "ipython3",
   "version": "3.12.7"
  }
 },
 "nbformat": 4,
 "nbformat_minor": 2
}
