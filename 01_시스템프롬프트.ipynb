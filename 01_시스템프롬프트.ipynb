{
 "cells": [
  {
   "cell_type": "markdown",
   "metadata": {},
   "source": [
    "## 환경셋팅 값 및 모듈 로딩"
   ]
  },
  {
   "cell_type": "code",
   "execution_count": 9,
   "metadata": {},
   "outputs": [],
   "source": [
    "from dotenv import load_dotenv\n",
    "import os\n",
    "from langchain_openai import ChatOpenAI\n",
    "\n",
    "load_dotenv()\n",
    "\n",
    "api_key = os.getenv('OPENAI_API_KEY')\n",
    "# print(api_key)"
   ]
  },
  {
   "cell_type": "markdown",
   "metadata": {},
   "source": [
    "## llm 모델 객체 생성"
   ]
  },
  {
   "cell_type": "code",
   "execution_count": 10,
   "metadata": {},
   "outputs": [],
   "source": [
    "# gpt model 객체 생성\n",
    "llm = ChatOpenAI(model=\"gpt-4o\", api_key=api_key)"
   ]
  },
  {
   "cell_type": "markdown",
   "metadata": {},
   "source": [
    "## 필요한 모듈 로딩"
   ]
  },
  {
   "cell_type": "code",
   "execution_count": 11,
   "metadata": {},
   "outputs": [],
   "source": [
    "from langchain_core.prompts import ChatPromptTemplate\n",
    "from langchain_core.output_parsers import StrOutputParser  # 아웃풋 파서\n"
   ]
  },
  {
   "cell_type": "markdown",
   "metadata": {},
   "source": [
    "## 프롬프트 생성"
   ]
  },
  {
   "cell_type": "markdown",
   "metadata": {},
   "source": [
    "[] 프롬프트 찾기 \n",
    "- https://github.com/f/awesome-chatgpt-prompts\n",
    "- Financial Analyst로 검색"
   ]
  },
  {
   "cell_type": "code",
   "execution_count": 12,
   "metadata": {},
   "outputs": [],
   "source": [
    "system_prompt = \"\"\"\n",
    "    Want assistance provided by qualified individuals enabled with experience on understanding charts using technical analysis tools while interpreting macroeconomic environment prevailing across world consequently assisting customers acquire long term advantages requires clear verdicts therefore seeking same through informed predictions written down precisely! First statement contains following content- \"Can you tell us what future stock market looks like based upon current conditions ?\".\n",
    " \"\"\"\n",
    "user_prompt = \"{company}에 주식을 투자해도 될까요? 마크다운 형식의 투자보고서를 한글로 작성해 주세요.\""
   ]
  },
  {
   "cell_type": "code",
   "execution_count": 13,
   "metadata": {},
   "outputs": [
    {
     "data": {
      "text/plain": [
       "ChatPromptTemplate(input_variables=['company'], input_types={}, partial_variables={}, messages=[SystemMessagePromptTemplate(prompt=PromptTemplate(input_variables=[], input_types={}, partial_variables={}, template='\\n    Want assistance provided by qualified individuals enabled with experience on understanding charts using technical analysis tools while interpreting macroeconomic environment prevailing across world consequently assisting customers acquire long term advantages requires clear verdicts therefore seeking same through informed predictions written down precisely! First statement contains following content- \"Can you tell us what future stock market looks like based upon current conditions ?\".\\n '), additional_kwargs={}), HumanMessagePromptTemplate(prompt=PromptTemplate(input_variables=['company'], input_types={}, partial_variables={}, template='{company}에 주식을 투자해도 될까요? 마크다운 형식의 투자보고서를 한글로 작성해 주세요.'), additional_kwargs={})])"
      ]
     },
     "execution_count": 13,
     "metadata": {},
     "output_type": "execute_result"
    }
   ],
   "source": [
    "\n",
    "prompt = ChatPromptTemplate.from_messages(\n",
    "    [\n",
    "        (\"system\", system_prompt),\n",
    "        (\"user\", user_prompt)\n",
    "    ]\n",
    ")\n",
    "prompt"
   ]
  },
  {
   "cell_type": "code",
   "execution_count": 14,
   "metadata": {},
   "outputs": [
    {
     "data": {
      "text/plain": [
       "StrOutputParser()"
      ]
     },
     "execution_count": 14,
     "metadata": {},
     "output_type": "execute_result"
    }
   ],
   "source": [
    "output_parser = StrOutputParser()\n",
    "output_parser"
   ]
  },
  {
   "cell_type": "code",
   "execution_count": 15,
   "metadata": {},
   "outputs": [],
   "source": [
    "# chain 구성\n",
    "chain = prompt | llm | output_parser\n",
    "\n",
    "company = \"MicroSoft\"\n",
    "response = chain.invoke({\"company\" : company})"
   ]
  },
  {
   "cell_type": "code",
   "execution_count": 16,
   "metadata": {},
   "outputs": [
    {
     "name": "stdout",
     "output_type": "stream",
     "text": [
      "# 마이크로소프트 투자 보고서\n",
      "\n",
      "## 개요\n",
      "마이크로소프트(Microsoft)는 글로벌 기술 업계의 선도 기업으로, 클라우드 컴퓨팅, 소프트웨어, 하드웨어 등 다양한 분야에서 사업을 운영하고 있습니다. 본 보고서는 마이크로소프트 주식에 대한 투자 가능성을 평가하기 위해 작성되었습니다.\n",
      "\n",
      "## 시장 동향\n",
      "\n",
      "### 기술 산업 전망\n",
      "1. **클라우드 컴퓨팅의 성장**: 클라우드 서비스는 계속해서 빠르게 성장하고 있으며, 마이크로소프트의 Azure는 시장 점유율을 확대하고 있습니다.\n",
      "2. **인공지능 및 머신러닝**: 인공지능 기술의 발전은 마이크로소프트의 다양한 제품과 서비스에 통합되어 사용자의 경험을 향상시키고 있습니다.\n",
      "3. **원격 근무 증가**: 원격 근무의 증가로 인해 마이크로소프트의 Teams 및 Office 365와 같은 협업 도구의 수요가 증가하고 있습니다.\n",
      "\n",
      "### 경제적 환경\n",
      "1. **글로벌 경제 회복**: 팬데믹 이후 경제 회복이 진행 중이며, 이는 기술 산업에 긍정적인 영향을 미치고 있습니다.\n",
      "2. **금리 변동**: 금리 변동은 기술 기업의 자금 조달 비용에 영향을 미칠 수 있으며, 이는 투자 결정에 중요한 요소입니다.\n",
      "\n",
      "## 재무 분석\n",
      "\n",
      "### 수익 및 성장\n",
      "- **매출 성장**: 마이크로소프트는 지속적인 매출 성장을 기록하고 있으며, 특히 클라우드 사업 부문에서 두드러진 성과를 보이고 있습니다.\n",
      "- **수익성**: 마이크로소프트는 높은 영업 이익률을 유지하고 있으며, 이는 강력한 시장 지위를 반영합니다.\n",
      "\n",
      "### 주식 평가\n",
      "- **주가수익비율(P/E)**: 마이크로소프트의 P/E 비율은 기술 업계 평균과 비교했을 때 경쟁력 있는 수준을 유지하고 있습니다.\n",
      "- **배당금**: 마이크로소프트는 안정적인 배당금을 지급하고 있으며, 이는 장기 투자자에게 매력적입니다.\n",
      "\n",
      "## 리스크 분석\n",
      "\n",
      "### 경쟁\n",
      "- **경쟁 심화**: 아마존, 구글과 같은 경쟁사들과의 치열한 시장 경쟁이 지속되고 있습니다.\n",
      "\n",
      "### 규제\n",
      "- **규제 리스크**: 글로벌 규제 환경의 변화는 마이크로소프트의 사업 운영에 영향을 미칠 수 있습니다.\n",
      "\n",
      "## 결론 및 추천\n",
      "\n",
      "마이크로소프트는 강력한 시장 입지와 지속적인 성장 잠재력을 가진 기업으로 평가됩니다. 클라우드 컴퓨팅 및 인공지능 기술의 발전은 마이크로소프트의 미래 성장에 긍정적인 영향을 미칠 것으로 기대됩니다. 다만, 경쟁 및 규제 환경의 변화를 주의 깊게 모니터링해야 합니다. 이러한 점을 고려할 때, 마이크로소프트 주식은 중장기적으로 투자 가치가 있다고 판단됩니다. \n",
      "\n",
      "**투자 추천**: 매수 (Buy)\n",
      "\n",
      "투자 결정 시 개인의 재무 상황과 투자 목표를 반드시 고려하시기 바랍니다.\n"
     ]
    }
   ],
   "source": [
    "print(response)"
   ]
  },
  {
   "cell_type": "markdown",
   "metadata": {},
   "source": [
    "- 결과에서 제일 중요한 것\n",
    "<pre>\n",
    "재무 데이터\n",
    "\n",
    "재무제표: 기업의 손익계산서, 대차대조표, 현금흐름표 등을 포함한 핵심 지표.\n",
    "재무 비율: P/E ratio, P/B ratio, EPS, ROE 등 투자자의 의사결정을 돕는 재무 지표.\n",
    "</pre>"
   ]
  },
  {
   "cell_type": "markdown",
   "metadata": {},
   "source": []
  }
 ],
 "metadata": {
  "kernelspec": {
   "display_name": "lcenv_py312",
   "language": "python",
   "name": "python3"
  },
  "language_info": {
   "codemirror_mode": {
    "name": "ipython",
    "version": 3
   },
   "file_extension": ".py",
   "mimetype": "text/x-python",
   "name": "python",
   "nbconvert_exporter": "python",
   "pygments_lexer": "ipython3",
   "version": "3.12.7"
  }
 },
 "nbformat": 4,
 "nbformat_minor": 2
}
