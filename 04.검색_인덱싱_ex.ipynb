{
 "cells": [
  {
   "cell_type": "markdown",
   "metadata": {},
   "source": [
    "# 검색 인덱스"
   ]
  },
  {
   "cell_type": "markdown",
   "metadata": {},
   "source": [
    "- 서치 엔진 연결\n",
    "- https://www.nasdaq.com/market-activity/stocks/screener"
   ]
  },
  {
   "cell_type": "code",
   "execution_count": 33,
   "metadata": {},
   "outputs": [],
   "source": [
    "company = \"Apple\"\n",
    "symbol = \"AAPL\""
   ]
  },
  {
   "cell_type": "code",
   "execution_count": 34,
   "metadata": {},
   "outputs": [],
   "source": [
    "import meilisearch\n",
    "import json\n",
    "\n",
    "# meilisearch의 클라이언트의 객체\n",
    "# client = meilisearch.Client('로컬호스트', '서버의키')\n",
    "client = meilisearch.Client('http://localhost:7700', 'aSampleMasterKey')\n",
    "\n",
    "# json_file = open('movies.json', encoding='utf-8')\n",
    "# movies = json.load(json_file)\n",
    "# client.index('movies').add_documents(movies)"
   ]
  },
  {
   "cell_type": "code",
   "execution_count": 35,
   "metadata": {},
   "outputs": [
    {
     "data": {
      "text/html": [
       "<div>\n",
       "<style scoped>\n",
       "    .dataframe tbody tr th:only-of-type {\n",
       "        vertical-align: middle;\n",
       "    }\n",
       "\n",
       "    .dataframe tbody tr th {\n",
       "        vertical-align: top;\n",
       "    }\n",
       "\n",
       "    .dataframe thead th {\n",
       "        text-align: right;\n",
       "    }\n",
       "</style>\n",
       "<table border=\"1\" class=\"dataframe\">\n",
       "  <thead>\n",
       "    <tr style=\"text-align: right;\">\n",
       "      <th></th>\n",
       "      <th>Symbol</th>\n",
       "      <th>Name</th>\n",
       "      <th>Last Sale</th>\n",
       "      <th>Net Change</th>\n",
       "      <th>% Change</th>\n",
       "      <th>Market Cap</th>\n",
       "      <th>Country</th>\n",
       "      <th>IPO Year</th>\n",
       "      <th>Volume</th>\n",
       "      <th>Sector</th>\n",
       "      <th>Industry</th>\n",
       "    </tr>\n",
       "  </thead>\n",
       "  <tbody>\n",
       "    <tr>\n",
       "      <th>0</th>\n",
       "      <td>A</td>\n",
       "      <td>Agilent Technologies Inc. Common Stock</td>\n",
       "      <td>$130.69</td>\n",
       "      <td>-2.340</td>\n",
       "      <td>-1.759%</td>\n",
       "      <td>37550853323.00</td>\n",
       "      <td>United States</td>\n",
       "      <td>1999</td>\n",
       "      <td>1623416</td>\n",
       "      <td>Industrials</td>\n",
       "      <td>Biotechnology: Laboratory Analytical Instruments</td>\n",
       "    </tr>\n",
       "    <tr>\n",
       "      <th>1</th>\n",
       "      <td>AA</td>\n",
       "      <td>Alcoa Corporation Common Stock</td>\n",
       "      <td>$42.02</td>\n",
       "      <td>0.140</td>\n",
       "      <td>0.334%</td>\n",
       "      <td>10855452683.00</td>\n",
       "      <td>United States</td>\n",
       "      <td>2016</td>\n",
       "      <td>3694978</td>\n",
       "      <td>Industrials</td>\n",
       "      <td>Aluminum</td>\n",
       "    </tr>\n",
       "    <tr>\n",
       "      <th>2</th>\n",
       "      <td>AACG</td>\n",
       "      <td>ATA Creativity Global American Depositary Shares</td>\n",
       "      <td>$1.01</td>\n",
       "      <td>0.005</td>\n",
       "      <td>0.498%</td>\n",
       "      <td>32320131.00</td>\n",
       "      <td>China</td>\n",
       "      <td>2008</td>\n",
       "      <td>69250</td>\n",
       "      <td>Real Estate</td>\n",
       "      <td>Other Consumer Services</td>\n",
       "    </tr>\n",
       "    <tr>\n",
       "      <th>3</th>\n",
       "      <td>AACT</td>\n",
       "      <td>Ares Acquisition Corporation II Class A Ordina...</td>\n",
       "      <td>$10.86</td>\n",
       "      <td>-0.015</td>\n",
       "      <td>-0.138%</td>\n",
       "      <td>0.00</td>\n",
       "      <td></td>\n",
       "      <td>2023</td>\n",
       "      <td>64999</td>\n",
       "      <td>Finance</td>\n",
       "      <td>Blank Checks</td>\n",
       "    </tr>\n",
       "    <tr>\n",
       "      <th>4</th>\n",
       "      <td>AADI</td>\n",
       "      <td>Aadi Bioscience Inc. Common Stock</td>\n",
       "      <td>$1.95</td>\n",
       "      <td>0.020</td>\n",
       "      <td>1.036%</td>\n",
       "      <td>47998926.00</td>\n",
       "      <td>United States</td>\n",
       "      <td></td>\n",
       "      <td>54447</td>\n",
       "      <td>Health Care</td>\n",
       "      <td>Biotechnology: Pharmaceutical Preparations</td>\n",
       "    </tr>\n",
       "  </tbody>\n",
       "</table>\n",
       "</div>"
      ],
      "text/plain": [
       "  Symbol                                               Name Last Sale  \\\n",
       "0      A             Agilent Technologies Inc. Common Stock   $130.69   \n",
       "1     AA                    Alcoa Corporation Common Stock     $42.02   \n",
       "2   AACG   ATA Creativity Global American Depositary Shares     $1.01   \n",
       "3   AACT  Ares Acquisition Corporation II Class A Ordina...    $10.86   \n",
       "4   AADI                  Aadi Bioscience Inc. Common Stock     $1.95   \n",
       "\n",
       "   Net Change % Change      Market Cap        Country IPO Year   Volume  \\\n",
       "0      -2.340  -1.759%  37550853323.00  United States     1999  1623416   \n",
       "1       0.140   0.334%  10855452683.00  United States     2016  3694978   \n",
       "2       0.005   0.498%     32320131.00          China     2008    69250   \n",
       "3      -0.015  -0.138%            0.00                    2023    64999   \n",
       "4       0.020   1.036%     47998926.00  United States             54447   \n",
       "\n",
       "        Sector                                          Industry  \n",
       "0  Industrials  Biotechnology: Laboratory Analytical Instruments  \n",
       "1  Industrials                                          Aluminum  \n",
       "2  Real Estate                           Other Consumer Services  \n",
       "3      Finance                                      Blank Checks  \n",
       "4  Health Care        Biotechnology: Pharmaceutical Preparations  "
      ]
     },
     "execution_count": 35,
     "metadata": {},
     "output_type": "execute_result"
    }
   ],
   "source": [
    "import pandas as pd\n",
    "# df = pd.read_csv('nasdaq_screener_1729401017798.csv', na_filter=False)\n",
    "df = pd.read_csv('nasdaq_screener_1729802482963.csv', na_filter=False)  #2024-10-25\n",
    "df.head()"
   ]
  },
  {
   "cell_type": "markdown",
   "metadata": {},
   "source": [
    "## meilisearch 사용 방법\n",
    "- Vector 서치 지원, 클라우드 버전도 지원함(유료)\n"
   ]
  },
  {
   "cell_type": "markdown",
   "metadata": {},
   "source": [
    "- 데이터의 고유한 키 만들기"
   ]
  },
  {
   "cell_type": "code",
   "execution_count": 36,
   "metadata": {},
   "outputs": [],
   "source": [
    "# r'[/^]'는 정규 표현식(Regex)으로, 문자열 내에서 슬래시(/)나 캐럿(^) 문자를 찾아서 이를 밑줄(_)로 대체함.\n",
    "df['id'] =df['Symbol'].str.strip().replace(r'[/^]', '_', regex=True)"
   ]
  },
  {
   "cell_type": "code",
   "execution_count": 37,
   "metadata": {},
   "outputs": [
    {
     "data": {
      "text/plain": [
       "TaskInfo(task_uid=8, index_uid='nasdaq', status='enqueued', type='documentAdditionOrUpdate', enqueued_at=datetime.datetime(2024, 10, 24, 21, 5, 41, 675210))"
      ]
     },
     "execution_count": 37,
     "metadata": {},
     "output_type": "execute_result"
    }
   ],
   "source": [
    "# index 생성 (nasdaq 라는 이름으로),  반드시 dict로 변경해야함. 서치 엔진에 업로딩하기\n",
    "client.index('nasdaq').add_documents(df.to_dict(orient=\"records\"), primary_key='id')"
   ]
  },
  {
   "cell_type": "code",
   "execution_count": 40,
   "metadata": {},
   "outputs": [
    {
     "data": {
      "text/plain": [
       "{'hits': [{'id': 'AAPL',\n",
       "   'Symbol': 'AAPL',\n",
       "   'Name': 'Apple Inc. Common Stock',\n",
       "   'Last Sale': '$230.57',\n",
       "   'Net Change': -0.19,\n",
       "   '% Change': '-0.082%',\n",
       "   'Market Cap': '3505617868090.00',\n",
       "   'Country': 'United States',\n",
       "   'IPO Year': '1980',\n",
       "   'Volume': 29429526,\n",
       "   'Sector': 'Technology',\n",
       "   'Industry': 'Computer Manufacturing'}],\n",
       " 'query': 'AAPL',\n",
       " 'processingTimeMs': 0,\n",
       " 'limit': 20,\n",
       " 'offset': 0,\n",
       " 'estimatedTotalHits': 1}"
      ]
     },
     "execution_count": 40,
     "metadata": {},
     "output_type": "execute_result"
    }
   ],
   "source": [
    "# 서치하기\n",
    "# client.index('nasdaq').search(\"Apple\")\n",
    "client.index('nasdaq').search(\"AAPL\")"
   ]
  },
  {
   "cell_type": "code",
   "execution_count": 43,
   "metadata": {},
   "outputs": [
    {
     "data": {
      "text/plain": [
       "{'hits': [{'id': 'NVDA',\n",
       "   'Symbol': 'NVDA',\n",
       "   'Name': 'NVIDIA Corporation Common Stock',\n",
       "   'Last Sale': '$140.41',\n",
       "   'Net Change': 0.85,\n",
       "   '% Change': '0.609%',\n",
       "   'Market Cap': '3444257300000.00',\n",
       "   'Country': 'United States',\n",
       "   'IPO Year': '1999',\n",
       "   'Volume': 171037528,\n",
       "   'Sector': 'Technology',\n",
       "   'Industry': 'Semiconductors'}],\n",
       " 'query': 'NVIDIA',\n",
       " 'processingTimeMs': 1,\n",
       " 'limit': 20,\n",
       " 'offset': 0,\n",
       " 'estimatedTotalHits': 1}"
      ]
     },
     "execution_count": 43,
     "metadata": {},
     "output_type": "execute_result"
    }
   ],
   "source": [
    "# 서치하기\n",
    "# client.index('nasdaq').search(\"NVDA\")\n",
    "client.index('nasdaq').search(\"NVIDIA\")"
   ]
  },
  {
   "cell_type": "code",
   "execution_count": 32,
   "metadata": {},
   "outputs": [
    {
     "data": {
      "text/plain": [
       "TaskInfo(task_uid=7, index_uid='nasdaq', status='enqueued', type='indexDeletion', enqueued_at=datetime.datetime(2024, 10, 24, 21, 5, 18, 487842))"
      ]
     },
     "execution_count": 32,
     "metadata": {},
     "output_type": "execute_result"
    }
   ],
   "source": [
    "# 인덱스 삭제\n",
    "client.delete_index('nasdaq')"
   ]
  },
  {
   "cell_type": "code",
   "execution_count": null,
   "metadata": {},
   "outputs": [],
   "source": []
  },
  {
   "cell_type": "code",
   "execution_count": null,
   "metadata": {},
   "outputs": [],
   "source": []
  }
 ],
 "metadata": {
  "kernelspec": {
   "display_name": "lcenv_py312",
   "language": "python",
   "name": "python3"
  },
  "language_info": {
   "codemirror_mode": {
    "name": "ipython",
    "version": 3
   },
   "file_extension": ".py",
   "mimetype": "text/x-python",
   "name": "python",
   "nbconvert_exporter": "python",
   "pygments_lexer": "ipython3",
   "version": "3.12.7"
  }
 },
 "nbformat": 4,
 "nbformat_minor": 2
}
